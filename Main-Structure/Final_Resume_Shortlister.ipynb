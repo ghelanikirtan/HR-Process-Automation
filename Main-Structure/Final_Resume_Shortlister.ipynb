{
 "cells": [
  {
   "cell_type": "markdown",
   "id": "6923fb79-68e7-4505-bd09-6c7227489d91",
   "metadata": {},
   "source": [
    "# Importing Libraries 📕"
   ]
  },
  {
   "cell_type": "code",
   "execution_count": 19,
   "id": "b27e5d87-607f-471a-961b-eea6a4d6f109",
   "metadata": {},
   "outputs": [],
   "source": [
    "import os \n",
    "from langchain.document_loaders import PyMuPDFLoader\n",
    "from langchain.vectorstores import Chroma\n",
    "from langchain.embeddings import OpenAIEmbeddings\n",
    "from langchain.chat_models import ChatOpenAI\n",
    "from langchain.chains import RetrievalQA\n",
    "import pymongo\n",
    "import pandas as pd"
   ]
  },
  {
   "cell_type": "markdown",
   "id": "a94a4145-8a78-4958-b7ec-c6624aa53117",
   "metadata": {},
   "source": [
    "# API-KEY Setup 🗝️"
   ]
  },
  {
   "cell_type": "code",
   "execution_count": 20,
   "id": "d76bd54a-34fe-4bd7-ab08-1f64e885c6c8",
   "metadata": {},
   "outputs": [],
   "source": [
    "os.environ['OPENAI_API_KEY'] = ''"
   ]
  },
  {
   "cell_type": "markdown",
   "id": "4d4ec477-cac2-476a-a0a7-489fc3fd6697",
   "metadata": {},
   "source": [
    "# Extracting Text from PDF 🛠️"
   ]
  },
  {
   "cell_type": "code",
   "execution_count": 28,
   "id": "8e640a5e-9c73-4d5f-9ba3-e417fed88716",
   "metadata": {},
   "outputs": [],
   "source": [
    "pdf_path = os.path.join('Resume', '05.pdf')\n",
    "\n",
    "loader = PyMuPDFLoader(pdf_path)\n",
    "documents = loader.load()"
   ]
  },
  {
   "cell_type": "code",
   "execution_count": 29,
   "id": "f350accf-92ab-41d7-baec-0b2cf3167941",
   "metadata": {
    "scrolled": true
   },
   "outputs": [
    {
     "data": {
      "text/plain": [
       "[Document(page_content='Tammy Jones\\nSacramento, CA 12345 \\nTammyJones@sampleemail.com \\n(123)456-7890\\nPROFILE\\nExperienced and hard working accounting professional with a track record of success in helping clients balance \\nbooks and identify discrepancies. Detail oriented with a proven success record in account reconciliation and saving \\nmoney. Possesses solid organizational skills and a willingness to learn more about accounting.\\nPROFESSIONAL EXPERIENCE\\nAccounting Specialist\\nXYZ Accountants, Sacramento, CA | January 2012 - Present\\n• \\nEnsure accuracy of all transactions with clients, \\nvendors and employees\\n• \\nApply acquired accounting skills when looking for \\nways to save the company money\\n• \\nSaved XYZ over $250K in lost revenue through bank \\nerrors\\n• \\nAcquired problem-solving skills in the SAP \\naccounting system when working closely with the \\ncompany CEO\\n• \\nImprove client relationships by resolving late and \\nmissed payments\\n• \\nWork closely with management and other staff \\nmembers\\nEDUCATION\\nBachelor of Science in\\nAccounting, GPA 4.0\\nSacramento University, \\nSacramento, CA\\nAugust 2006 - May 2010\\n• \\nTook advanced classes in \\nfinance\\n• \\nMinored in Business \\nAdministration\\nKEY SKILLS\\n• \\nAbility to work easily under \\ndeadlines\\n• \\nExcellent written and \\nverbal communication \\nskills\\n• \\nProficient in Microsoft \\nOffice\\n• \\nSolid knowledge in GAAP, \\nGAAS, GSTand PST \\nreturns\\n• \\nStrong academic \\nfoundation with an \\nextensive background in \\neconomics\\n• \\nTwo years of hands-on \\ntraining within the XYZ \\nCompany\\n', metadata={'source': 'Resume\\\\05.pdf', 'file_path': 'Resume\\\\05.pdf', 'page': 0, 'total_pages': 1, 'format': 'PDF 1.6', 'title': 'Unknown Title', 'author': '', 'subject': '', 'keywords': '', 'creator': 'ABBYY FineReader PDF', 'producer': '', 'creationDate': 'D:20230809155159Z', 'modDate': \"D:20230809213833+05'30'\", 'trapped': ''})]"
      ]
     },
     "execution_count": 29,
     "metadata": {},
     "output_type": "execute_result"
    }
   ],
   "source": [
    "loader.load()"
   ]
  },
  {
   "cell_type": "markdown",
   "id": "f9967f8f-04ef-4c10-8e17-a47003b9936c",
   "metadata": {},
   "source": [
    "# Embeddings, ChromaDB and QnAWithPDF 😶‍🌫️"
   ]
  },
  {
   "cell_type": "code",
   "execution_count": 23,
   "id": "246bbc57-8ea5-450c-aa4e-3cfd8c35cc18",
   "metadata": {},
   "outputs": [],
   "source": [
    "embeddings = OpenAIEmbeddings()\n",
    "persist_dir = os.path.join('Resume', 'storage')"
   ]
  },
  {
   "cell_type": "code",
   "execution_count": 24,
   "id": "fb4ec062-4170-45af-a757-9c3c0d002319",
   "metadata": {},
   "outputs": [],
   "source": [
    "vectordb = Chroma.from_documents(\n",
    "    documents = documents,\n",
    "    embedding = embeddings,\n",
    "    persist_directory = persist_dir\n",
    ")\n",
    "vectordb.persist()"
   ]
  },
  {
   "cell_type": "markdown",
   "id": "86952353-f623-4532-bc79-28a256215d15",
   "metadata": {},
   "source": [
    "# Using Model For Summary Generation Of The Resume 👷‍♂️"
   ]
  },
  {
   "cell_type": "code",
   "execution_count": 25,
   "id": "0f9ae3a8-503f-47a2-b4e8-d297b864a326",
   "metadata": {},
   "outputs": [],
   "source": [
    "retriever = vectordb.as_retriever(search_kwargs = {\"k\" : 3})\n",
    "llm = ChatOpenAI()\n",
    "qa =  RetrievalQA.from_chain_type(llm = llm, chain_type = \"stuff\", retriever = retriever)"
   ]
  },
  {
   "cell_type": "code",
   "execution_count": 26,
   "id": "d9b38ff2-d9fe-47a3-9e92-732d58f5fdf6",
   "metadata": {},
   "outputs": [],
   "source": [
    "# ui = input(\"Enter Prompt\")\n",
    "# ui = \"Given the resume attached, could you please provide a concise summary highlighting the individual's key skills, experiences, and accomplishments? \\n\\n{documents}\"\n",
    "ui = '[key skills, experience, accompolishments]-words_limit[50]'\n",
    "# ui = 'clear chat buffer [new resume input will be added soon]'\n",
    "query = f\"###Prompt {ui}\"\n",
    "llm_response = qa(query)\n",
    "summary = llm_response['result']"
   ]
  },
  {
   "cell_type": "markdown",
   "id": "14ffbcc6-45ec-48bb-b34d-080ac6d42ca8",
   "metadata": {},
   "source": [
    "# Making Dataset 💀"
   ]
  },
  {
   "cell_type": "code",
   "execution_count": 27,
   "id": "bbe2c67d-2a40-4681-b1f4-d4e0dc780b8a",
   "metadata": {},
   "outputs": [],
   "source": [
    "id = 1\n",
    "df = pd.DataFrame({'ID': [id], 'Summary': [summary]})\n",
    "df.to_csv('resume_summaries.csv', index = False)"
   ]
  },
  {
   "cell_type": "code",
   "execution_count": null,
   "id": "81bc0b22-113d-465c-8460-6761759509c9",
   "metadata": {},
   "outputs": [],
   "source": []
  }
 ],
 "metadata": {
  "kernelspec": {
   "display_name": "Python 3 (ipykernel)",
   "language": "python",
   "name": "python3"
  },
  "language_info": {
   "codemirror_mode": {
    "name": "ipython",
    "version": 3
   },
   "file_extension": ".py",
   "mimetype": "text/x-python",
   "name": "python",
   "nbconvert_exporter": "python",
   "pygments_lexer": "ipython3",
   "version": "3.11.4"
  }
 },
 "nbformat": 4,
 "nbformat_minor": 5
}
