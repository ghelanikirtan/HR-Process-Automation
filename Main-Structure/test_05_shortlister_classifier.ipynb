{
 "cells": [
  {
   "cell_type": "markdown",
   "id": "92c4fede-1cf0-42fb-a752-f8072f352516",
   "metadata": {},
   "source": [
    "# Shortlister:\n",
    "## Importing Necessary Dependencies:"
   ]
  },
  {
   "cell_type": "code",
   "execution_count": 19,
   "id": "42b05244-2a06-4c7b-9fb3-8e3031b47f2a",
   "metadata": {},
   "outputs": [],
   "source": [
    "import os\n",
    "import re\n",
    "import nltk\n",
    "from nltk.corpus import stopwords\n",
    "from nltk.stem.wordnet import WordNetLemmatizer\n",
    "from sklearn.feature_extraction.text import TfidfVectorizer\n",
    "from sklearn.cluster import DBSCAN\n",
    "from sklearn.decomposition import PCA\n",
    "import matplotlib.pyplot as plt\n",
    "\n",
    "import numpy as np\n",
    "import pandas as pd"
   ]
  },
  {
   "cell_type": "code",
   "execution_count": null,
   "id": "84a1c623-1ae1-46bc-b4f5-1d421c1f6fad",
   "metadata": {},
   "outputs": [],
   "source": []
  },
  {
   "cell_type": "markdown",
   "id": "39f10d34-e3c9-48e2-84de-6de5ef7a3936",
   "metadata": {},
   "source": [
    "## OpenAI API setup [temporary]:"
   ]
  },
  {
   "cell_type": "code",
   "execution_count": 20,
   "id": "5320a9bb-2ed0-4ec4-b9f4-488ae0d4d8a6",
   "metadata": {},
   "outputs": [],
   "source": [
    "os.environ['OPENAI_API_KEY'] = ''"
   ]
  },
  {
   "cell_type": "code",
   "execution_count": null,
   "id": "b846fa4b-edb7-4813-bed4-4e68597a676e",
   "metadata": {},
   "outputs": [],
   "source": []
  },
  {
   "cell_type": "markdown",
   "id": "769fe9e3-affb-4818-b0e5-38f2d425812e",
   "metadata": {},
   "source": [
    "## 1. Importing Data from *.pdf*:\n",
    "- using langchain document_loaders and openai integration."
   ]
  },
  {
   "cell_type": "code",
   "execution_count": 21,
   "id": "02dc11f9-5aac-4cf6-b90c-9dd89702abb9",
   "metadata": {},
   "outputs": [],
   "source": [
    "from langchain.document_loaders import PyMuPDFLoader\n"
   ]
  },
  {
   "cell_type": "code",
   "execution_count": 24,
   "id": "0e8d4b47-463c-4518-8a0d-24a175a65ab6",
   "metadata": {},
   "outputs": [
    {
     "data": {
      "text/plain": [
       "'Resume\\\\01.pdf'"
      ]
     },
     "execution_count": 24,
     "metadata": {},
     "output_type": "execute_result"
    }
   ],
   "source": [
    "cv_file_path = os.path.join('Resume', os.listdir('Resume')[1])\n",
    "cv_file_path"
   ]
  },
  {
   "cell_type": "code",
   "execution_count": 25,
   "id": "4c55e70d-b749-4381-ba71-d8436eca61e1",
   "metadata": {},
   "outputs": [
    {
     "data": {
      "text/plain": [
       "<langchain.document_loaders.pdf.PyMuPDFLoader at 0x1e37bb96c50>"
      ]
     },
     "execution_count": 25,
     "metadata": {},
     "output_type": "execute_result"
    }
   ],
   "source": [
    "loader = PyMuPDFLoader(cv_file_path)\n",
    "loader"
   ]
  },
  {
   "cell_type": "code",
   "execution_count": 26,
   "id": "870d2d5a-a18b-4cfa-afea-02953395e7f6",
   "metadata": {},
   "outputs": [
    {
     "data": {
      "text/plain": [
       "Document(page_content=\"●\\nSecure task persistence with local storage methods, ensuring that your\\ntasks are always available.\\nMy Projects (My Projects Page)\\nproject3_link\\nTechnologies used : HTML, CSS, Bootstrap\\nDeveloped an online showcase of an individual's projects for interviewer\\nassessment\\n●\\nCrafted the banner segment and project cards with a variety of HTML\\nblock and inline elements.\\n●\\nReﬁned the website's look with CSS3 methods, including background,\\nﬂex, box model properties, and a mix of relative (vh, vw) and absolute\\n(px) units.\\nCertiﬁcates\\nPython Bootcamp\\nPython programming\\nCPP Programming\\nCpp programming and concepts\\n\", metadata={'source': 'Resume\\\\01.pdf', 'file_path': 'Resume\\\\01.pdf', 'page': 1, 'total_pages': 2, 'format': 'PDF 1.4', 'title': 'Ravikanth_Reddy_2023-06-12-224234', 'author': '', 'subject': '', 'keywords': '', 'creator': '', 'producer': 'Skia/PDF m116 Google Docs Renderer', 'creationDate': '', 'modDate': '', 'trapped': ''})"
      ]
     },
     "execution_count": 26,
     "metadata": {},
     "output_type": "execute_result"
    }
   ],
   "source": [
    "documents = loader.load()\n",
    "documents[1] # list indexing depends on the pages present in the file"
   ]
  },
  {
   "cell_type": "code",
   "execution_count": null,
   "id": "4bb49586-4fe8-4eb9-8d04-c52d63b6dacd",
   "metadata": {},
   "outputs": [],
   "source": []
  },
  {
   "cell_type": "markdown",
   "id": "84047b94-0950-413e-a01e-025ffd5ff5cd",
   "metadata": {},
   "source": [
    "## 2. Data Extraction from documents:"
   ]
  },
  {
   "cell_type": "code",
   "execution_count": 27,
   "id": "07fa3b0e-b902-43c8-9a52-d6d56b0eed92",
   "metadata": {},
   "outputs": [
    {
     "data": {
      "text/plain": [
       "\"●\\nSecure task persistence with local storage methods, ensuring that your\\ntasks are always available.\\nMy Projects (My Projects Page)\\nproject3_link\\nTechnologies used : HTML, CSS, Bootstrap\\nDeveloped an online showcase of an individual's projects for interviewer\\nassessment\\n●\\nCrafted the banner segment and project cards with a variety of HTML\\nblock and inline elements.\\n●\\nReﬁned the website's look with CSS3 methods, including background,\\nﬂex, box model properties, and a mix of relative (vh, vw) and absolute\\n(px) units.\\nCertiﬁcates\\nPython Bootcamp\\nPython programming\\nCPP Programming\\nCpp programming and concepts\\n\""
      ]
     },
     "execution_count": 27,
     "metadata": {},
     "output_type": "execute_result"
    }
   ],
   "source": [
    "documents[1].page_content"
   ]
  },
  {
   "cell_type": "code",
   "execution_count": 28,
   "id": "0ab0d9b2-608f-4ffa-b300-471a0c427afe",
   "metadata": {},
   "outputs": [],
   "source": [
    "# Data Extraction:::\n",
    "data = [doc.page_content for doc in documents]"
   ]
  },
  {
   "cell_type": "code",
   "execution_count": null,
   "id": "8efaa7b8-7578-4a01-a318-683831ff2efb",
   "metadata": {},
   "outputs": [],
   "source": []
  },
  {
   "cell_type": "markdown",
   "id": "9f54ca98-3c72-46af-9681-f5c5840fd30c",
   "metadata": {},
   "source": [
    "## 3. Text Cleaning:"
   ]
  },
  {
   "cell_type": "code",
   "execution_count": 29,
   "id": "37702fc2-4372-4002-b1e0-75b6e627aca7",
   "metadata": {},
   "outputs": [],
   "source": [
    "## Pipeline : Text Cleaning\n",
    "def clean_txt(text):\n",
    "    # url remover:\n",
    "    text = re.sub(r\"http\\S+|www\\S+|https\\S+\", '', text, flags=re.MULTILINE)\n",
    "\n",
    "    # email addresses remover: \n",
    "    text = re.sub(r'\\S*@\\S*\\s?', '', text)\n",
    "\n",
    "    # Special Character remover:\n",
    "    text = re.sub(r'[^a-zA-Z\\s]', '', text)\n",
    "\n",
    "    # lowercase conversion:\n",
    "    text = text.lower().strip()\n",
    "\n",
    "    return text"
   ]
  },
  {
   "cell_type": "code",
   "execution_count": 30,
   "id": "05fe5fd8-1bb6-410c-9647-577d90ac9137",
   "metadata": {},
   "outputs": [
    {
     "data": {
      "text/plain": [
       "\"●\\nSecure task persistence with local storage methods, ensuring that your\\ntasks are always available.\\nMy Projects (My Projects Page)\\nproject3_link\\nTechnologies used : HTML, CSS, Bootstrap\\nDeveloped an online showcase of an individual's projects for interviewer\\nassessment\\n●\\nCrafted the banner segment and project cards with a variety of HTML\\nblock and inline elements.\\n●\\nReﬁned the website's look with CSS3 methods, including background,\\nﬂex, box model properties, and a mix of relative (vh, vw) and absolute\\n(px) units.\\nCertiﬁcates\\nPython Bootcamp\\nPython programming\\nCPP Programming\\nCpp programming and concepts\\n\""
      ]
     },
     "execution_count": 30,
     "metadata": {},
     "output_type": "execute_result"
    }
   ],
   "source": [
    "data[1]"
   ]
  },
  {
   "cell_type": "code",
   "execution_count": 31,
   "id": "d3715f03-93fd-4b2b-8fd9-560be8f38038",
   "metadata": {},
   "outputs": [
    {
     "data": {
      "text/plain": [
       "'secure task persistence with local storage methods ensuring that your\\ntasks are always available\\nmy projects my projects page\\nprojectlink\\ntechnologies used  html css bootstrap\\ndeveloped an online showcase of an individuals projects for interviewer\\nassessment\\n\\ncrafted the banner segment and project cards with a variety of html\\nblock and inline elements\\n\\nrened the websites look with css methods including background\\nex box model properties and a mix of relative vh vw and absolute\\npx units\\ncerticates\\npython bootcamp\\npython programming\\ncpp programming\\ncpp programming and concepts'"
      ]
     },
     "execution_count": 31,
     "metadata": {},
     "output_type": "execute_result"
    }
   ],
   "source": [
    "clean_txt(data[1])"
   ]
  },
  {
   "cell_type": "code",
   "execution_count": 32,
   "id": "1658f586-c236-482a-9403-a1e808d86b01",
   "metadata": {},
   "outputs": [],
   "source": [
    "# Cleaning data:\n",
    "cleaned_data = [clean_txt(text) for text in data]\n",
    "# cleaned_data"
   ]
  },
  {
   "cell_type": "markdown",
   "id": "59b534a8-9113-4d51-a284-472fb8367a37",
   "metadata": {},
   "source": [
    "---"
   ]
  },
  {
   "cell_type": "markdown",
   "id": "ecb618a5-3bbb-4e63-9951-d0a6dceb773f",
   "metadata": {},
   "source": [
    "## 4. Tokenization:\n",
    "\n",
    "- Generation of tokens from cleaned text data"
   ]
  },
  {
   "cell_type": "code",
   "execution_count": 33,
   "id": "3237253e-0ca8-437d-b14c-7bb4a1c5f045",
   "metadata": {},
   "outputs": [],
   "source": [
    "tokenized_data = [nltk.word_tokenize(text) for text in cleaned_data]\n",
    "# tokenized_data"
   ]
  },
  {
   "cell_type": "markdown",
   "id": "edc8952d-27a8-4e23-a70f-b94115edc152",
   "metadata": {},
   "source": [
    "---"
   ]
  },
  {
   "cell_type": "markdown",
   "id": "d3abb96d-d0ec-4af6-89a7-50b70d90885d",
   "metadata": {},
   "source": [
    "## 5. Stopwords Removal:"
   ]
  },
  {
   "cell_type": "code",
   "execution_count": 34,
   "id": "b968fea8-08b3-4de5-9816-850175a39aac",
   "metadata": {},
   "outputs": [],
   "source": [
    "stop_words = set(stopwords.words('english'))\n",
    "# stop_words"
   ]
  },
  {
   "cell_type": "code",
   "execution_count": 35,
   "id": "aefb8008-bc70-450d-bbc5-c7ebd223f5c7",
   "metadata": {},
   "outputs": [],
   "source": [
    "filtered_data = [[word for word in tokens if word not in stop_words] for tokens in tokenized_data]\n",
    "# filtered_data"
   ]
  },
  {
   "cell_type": "code",
   "execution_count": 36,
   "id": "b43c2a4f-b574-46b9-b238-e53906d73316",
   "metadata": {},
   "outputs": [],
   "source": [
    "# filtered_data"
   ]
  },
  {
   "cell_type": "markdown",
   "id": "aa1229a9-c682-4696-bfd7-70e89223d9dd",
   "metadata": {},
   "source": [
    "---"
   ]
  },
  {
   "cell_type": "markdown",
   "id": "9618f33b-278f-4f08-bb77-d28218abfa80",
   "metadata": {},
   "source": [
    "## 6. Lemmatization:"
   ]
  },
  {
   "cell_type": "code",
   "execution_count": 37,
   "id": "c329e33e-4923-4244-8138-9805074f55b2",
   "metadata": {},
   "outputs": [],
   "source": [
    "lemmatizer = WordNetLemmatizer()\n",
    "lemmatized_data = [[lemmatizer.lemmatize(word) for word in tokens] for tokens in filtered_data]"
   ]
  },
  {
   "cell_type": "code",
   "execution_count": 38,
   "id": "80476017-6758-44c1-9137-72a0c8fc419a",
   "metadata": {},
   "outputs": [],
   "source": [
    "# lemmatized_data"
   ]
  },
  {
   "cell_type": "markdown",
   "id": "990a7a74-a9c8-497d-939b-1187c5157c1a",
   "metadata": {},
   "source": [
    "---\n",
    "## 7. Joining Tokens back for text formation:"
   ]
  },
  {
   "cell_type": "code",
   "execution_count": 39,
   "id": "3402196d-e1a7-4184-ab8e-1dd263eda6b9",
   "metadata": {},
   "outputs": [
    {
     "data": {
      "text/plain": [
       "'secure task persistence local storage method ensuring task always available project project page projectlink technology used html cs bootstrap developed online showcase individual project interviewer assessment crafted banner segment project card variety html block inline element rened website look cs method including background ex box model property mix relative vh vw absolute px unit certicates python bootcamp python programming cpp programming cpp programming concept'"
      ]
     },
     "execution_count": 39,
     "metadata": {},
     "output_type": "execute_result"
    }
   ],
   "source": [
    "preprocessed_data = [\" \".join(tokens) for tokens in lemmatized_data]\n",
    "preprocessed_data[1]"
   ]
  },
  {
   "cell_type": "markdown",
   "id": "9c56e025-0519-4fe1-8b70-56322e81908d",
   "metadata": {},
   "source": [
    "---\n",
    "## 8. Vectorization:"
   ]
  },
  {
   "cell_type": "code",
   "execution_count": 40,
   "id": "e764ca91-a58e-427c-aa6c-d0add7906cef",
   "metadata": {},
   "outputs": [],
   "source": [
    "vectorizer = TfidfVectorizer()\n",
    "X = vectorizer.fit_transform(preprocessed_data)"
   ]
  },
  {
   "cell_type": "code",
   "execution_count": 41,
   "id": "f53ae3a4-17ce-41c8-8cea-49a74f7b6dcd",
   "metadata": {
    "scrolled": true
   },
   "outputs": [
    {
     "name": "stdout",
     "output_type": "stream",
     "text": [
      "  (0, 144)\t0.07215127834790694\n",
      "  (0, 141)\t0.07215127834790694\n",
      "  (0, 46)\t0.07215127834790694\n",
      "  (0, 82)\t0.07215127834790694\n",
      "  (0, 55)\t0.07215127834790694\n",
      "  (0, 100)\t0.07215127834790694\n",
      "  (0, 38)\t0.07215127834790694\n",
      "  (0, 71)\t0.07215127834790694\n",
      "  (0, 74)\t0.07215127834790694\n",
      "  (0, 32)\t0.07215127834790694\n",
      "  (0, 133)\t0.07215127834790694\n",
      "  (0, 48)\t0.07215127834790694\n",
      "  (0, 80)\t0.07215127834790694\n",
      "  (0, 86)\t0.07215127834790694\n",
      "  (0, 42)\t0.07215127834790694\n",
      "  (0, 129)\t0.07215127834790694\n",
      "  (0, 87)\t0.14430255669581388\n",
      "  (0, 135)\t0.10267245758242499\n",
      "  (0, 7)\t0.07215127834790694\n",
      "  (0, 140)\t0.07215127834790694\n",
      "  (0, 95)\t0.07215127834790694\n",
      "  (0, 11)\t0.051336228791212496\n",
      "  (0, 148)\t0.07215127834790694\n",
      "  (0, 104)\t0.07215127834790694\n",
      "  (0, 149)\t0.07215127834790694\n",
      "  :\t:\n",
      "  (1, 73)\t0.11566800406971704\n",
      "  (1, 68)\t0.11566800406971704\n",
      "  (1, 127)\t0.11566800406971704\n",
      "  (1, 99)\t0.11566800406971704\n",
      "  (1, 43)\t0.11566800406971704\n",
      "  (1, 101)\t0.11566800406971704\n",
      "  (1, 2)\t0.11566800406971704\n",
      "  (1, 54)\t0.11566800406971704\n",
      "  (1, 88)\t0.23133600813943409\n",
      "  (1, 132)\t0.11566800406971704\n",
      "  (1, 83)\t0.11566800406971704\n",
      "  (1, 102)\t0.11566800406971704\n",
      "  (1, 125)\t0.11566800406971704\n",
      "  (1, 135)\t0.16459747510261954\n",
      "  (1, 11)\t0.08229873755130977\n",
      "  (1, 50)\t0.08229873755130977\n",
      "  (1, 151)\t0.08229873755130977\n",
      "  (1, 145)\t0.08229873755130977\n",
      "  (1, 107)\t0.08229873755130977\n",
      "  (1, 106)\t0.3291949502052391\n",
      "  (1, 137)\t0.08229873755130977\n",
      "  (1, 110)\t0.16459747510261954\n",
      "  (1, 20)\t0.08229873755130977\n",
      "  (1, 39)\t0.16459747510261954\n",
      "  (1, 65)\t0.16459747510261954\n"
     ]
    }
   ],
   "source": [
    "print(X)"
   ]
  },
  {
   "cell_type": "markdown",
   "id": "7f279427-20ba-4524-a371-1f022b8a6cf0",
   "metadata": {},
   "source": [
    "---"
   ]
  },
  {
   "cell_type": "code",
   "execution_count": 42,
   "id": "7631f4bb-b79c-45c4-ba2c-0cb1468faf06",
   "metadata": {},
   "outputs": [
    {
     "data": {
      "text/plain": [
       "array([-1, -1], dtype=int64)"
      ]
     },
     "execution_count": 42,
     "metadata": {},
     "output_type": "execute_result"
    }
   ],
   "source": [
    "dbscan = DBSCAN(eps=0.5, min_samples=5)\n",
    "clusters = dbscan.fit_predict(X)\n",
    "clusters"
   ]
  },
  {
   "cell_type": "code",
   "execution_count": 45,
   "id": "7b538cae-c4c3-4529-b077-37d06c843d19",
   "metadata": {},
   "outputs": [
    {
     "data": {
      "text/plain": [
       "array([[ 6.38006309e-01,  4.93769619e-16],\n",
       "       [-6.38006309e-01,  4.93769619e-16]])"
      ]
     },
     "execution_count": 45,
     "metadata": {},
     "output_type": "execute_result"
    }
   ],
   "source": [
    "pca = PCA(n_components = 2)\n",
    "reduced_features = pca.fit_transform(X.toarray())\n",
    "reduced_features"
   ]
  },
  {
   "cell_type": "code",
   "execution_count": 44,
   "id": "ae76b5cb-0272-4fbc-a5c1-81fb73a4587b",
   "metadata": {},
   "outputs": [
    {
     "data": {
      "image/png": "[encoded data removed]",
      "text/plain": [
       "<Figure size 640x480 with 1 Axes>"
      ]
     },
     "metadata": {},
     "output_type": "display_data"
    }
   ],
   "source": [
    "plt.scatter(reduced_features[:,0], reduced_features[:,1], c=clusters)\n",
    "plt.title(\"DBSCAN Clustering\")\n",
    "plt.show()"
   ]
  },
  {
   "cell_type": "code",
   "execution_count": null,
   "id": "dbb0521d-9363-404f-ad7e-f960d7f96528",
   "metadata": {},
   "outputs": [],
   "source": []
  }
 ],
 "metadata": {
  "kernelspec": {
   "display_name": "Python 3 (ipykernel)",
   "language": "python",
   "name": "python3"
  },
  "language_info": {
   "codemirror_mode": {
    "name": "ipython",
    "version": 3
   },
   "file_extension": ".py",
   "mimetype": "text/x-python",
   "name": "python",
   "nbconvert_exporter": "python",
   "pygments_lexer": "ipython3",
   "version": "3.11.4"
  }
 },
 "nbformat": 4,
 "nbformat_minor": 5
}
